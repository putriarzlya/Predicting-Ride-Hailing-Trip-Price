{
 "cells": [
  {
   "cell_type": "markdown",
   "metadata": {},
   "source": [
    "\n",
    "    =================================================\n",
    "    Graded Challenge 4\n",
    "\n",
    "    Nama  : Putri Arzalya Maharani\n",
    "    Batch : HCK-013\n",
    "\n",
    "    Program ini dibuat untuk memprediksi harga perjalanan platform ride-hailing berdasarkan korelasi antar variabel untuk menentukan faktor apa yang mempengaruhi harga kemudian membangun model LinearRegression untuk memperoleh output harga perjalanan berdasarkan faktor-faktor tersebut.\n",
    "    ================================================="
   ]
  },
  {
   "cell_type": "markdown",
   "metadata": {},
   "source": [
    "# Import Library"
   ]
  },
  {
   "cell_type": "code",
   "execution_count": 16,
   "metadata": {},
   "outputs": [],
   "source": [
    "# Library untuk manipulasi data\n",
    "import pandas as pd\n",
    "import numpy as np\n",
    "\n",
    "# Model Saving\n",
    "import json\n",
    "import pickle"
   ]
  },
  {
   "cell_type": "markdown",
   "metadata": {},
   "source": [
    "- Kode ini bertujuan untuk mengakses file yang telah kita save sebelumnya di model saving"
   ]
  },
  {
   "cell_type": "code",
   "execution_count": 17,
   "metadata": {},
   "outputs": [],
   "source": [
    "# Load model and other files\n",
    "with open('model.pkl', 'rb') as file_1:\n",
    "  model = pickle.load(file_1)\n",
    "\n",
    "# Load list kolom numerikal\n",
    "with open('list_num_kols.txt', 'r') as file_2:\n",
    "    selected_numeric_cols = json.load(file_2)\n",
    "\n",
    "# Load list kolom kategorikal from the JSON file\n",
    "with open('list_cat_cols.txt', 'r') as file_3:\n",
    "    selected_categorical_cols = json.load(file_3)\n",
    "\n",
    "# Load encoder\n",
    "with open('encoder.pkl', 'rb') as file_4:\n",
    "  encoder = pickle.load(file_4)\n",
    "\n",
    "# Load scaler\n",
    "with open('scaler.pkl', 'rb') as file_5:\n",
    "  scaler = pickle.load(file_5)"
   ]
  },
  {
   "cell_type": "markdown",
   "metadata": {},
   "source": [
    "- Meng-input data untuk dilakukannya prediksi model."
   ]
  },
  {
   "cell_type": "code",
   "execution_count": 18,
   "metadata": {},
   "outputs": [
    {
     "data": {
      "text/html": [
       "<div>\n",
       "<style scoped>\n",
       "    .dataframe tbody tr th:only-of-type {\n",
       "        vertical-align: middle;\n",
       "    }\n",
       "\n",
       "    .dataframe tbody tr th {\n",
       "        vertical-align: top;\n",
       "    }\n",
       "\n",
       "    .dataframe thead th {\n",
       "        text-align: right;\n",
       "    }\n",
       "</style>\n",
       "<table border=\"1\" class=\"dataframe\">\n",
       "  <thead>\n",
       "    <tr style=\"text-align: right;\">\n",
       "      <th></th>\n",
       "      <th>name</th>\n",
       "      <th>cab_type</th>\n",
       "      <th>surge_multiplier</th>\n",
       "      <th>distance</th>\n",
       "      <th>destination</th>\n",
       "      <th>source</th>\n",
       "    </tr>\n",
       "  </thead>\n",
       "  <tbody>\n",
       "    <tr>\n",
       "      <th>0</th>\n",
       "      <td>Lux</td>\n",
       "      <td>Lyft</td>\n",
       "      <td>1</td>\n",
       "      <td>0.44</td>\n",
       "      <td>North Station</td>\n",
       "      <td>Haymarket Square</td>\n",
       "    </tr>\n",
       "  </tbody>\n",
       "</table>\n",
       "</div>"
      ],
      "text/plain": [
       "  name cab_type  surge_multiplier  distance    destination            source\n",
       "0  Lux     Lyft                 1      0.44  North Station  Haymarket Square"
      ]
     },
     "execution_count": 18,
     "metadata": {},
     "output_type": "execute_result"
    }
   ],
   "source": [
    "data = pd.DataFrame([{\n",
    "    'name': 'Lux',\n",
    "    'cab_type': 'Lyft',\n",
    "    'surge_multiplier': 1,\n",
    "    'distance':0.44,\n",
    "    'destination':'North Station',\n",
    "    'source':'Haymarket Square'\n",
    "}])\n",
    "\n",
    "data"
   ]
  },
  {
   "cell_type": "markdown",
   "metadata": {},
   "source": [
    "# Feature Engineering"
   ]
  },
  {
   "cell_type": "code",
   "execution_count": 19,
   "metadata": {},
   "outputs": [
    {
     "name": "stderr",
     "output_type": "stream",
     "text": [
      "/Users/putriarzalya/anaconda3/lib/python3.11/site-packages/sklearn/base.py:493: UserWarning: X does not have valid feature names, but MinMaxScaler was fitted with feature names\n",
      "  warnings.warn(\n"
     ]
    }
   ],
   "source": [
    "# Split kategorikal dan numerikal\n",
    "data_num = data[selected_numeric_cols]\n",
    "data_cat = data[selected_categorical_cols]\n",
    "\n",
    "# Encode kategorikal\n",
    "data_cat_encode = encoder.transform(data_cat)\n",
    "\n",
    "# Concatenate\n",
    "data_final = np.concatenate([data_cat_encode.toarray(), data_num], axis=1)\n",
    "\n",
    "# Scale numerikal\n",
    "data_scaled = scaler.transform(data_final)"
   ]
  },
  {
   "cell_type": "code",
   "execution_count": 32,
   "metadata": {},
   "outputs": [
    {
     "name": "stdout",
     "output_type": "stream",
     "text": [
      "Harga tarif perjalanan platform ride hailing yaitu Rp12.532\n"
     ]
    }
   ],
   "source": [
    "# Prediksi model\n",
    "predictions = model.predict(data_scaled)\n",
    "\n",
    "# Hasil yang diperoleh\n",
    "print(f'Harga tarif perjalanan platform ride hailing yaitu Rp{predictions[0]:,.3f}')"
   ]
  },
  {
   "cell_type": "code",
   "execution_count": 33,
   "metadata": {},
   "outputs": [
    {
     "name": "stdout",
     "output_type": "stream",
     "text": [
      "Intercept: -10117564016.555521\n",
      "Coefficients: [-4.09399979e+08 -1.37100107e+09 -1.39583825e+09 -1.39583824e+09\n",
      " -2.35743934e+09 -2.35743934e+09 -2.35743933e+09 -2.35743935e+09\n",
      " -2.35743934e+09 -2.35743935e+09 -1.39583826e+09 -1.39583826e+09\n",
      " -1.39583825e+09 -1.39583826e+09  2.26014131e+10  2.26014131e+10\n",
      "  5.93581461e+09  5.93581461e+09  2.26014131e+10  5.93581461e+09\n",
      "  5.93581461e+09  2.26014131e+10  5.93581461e+09  5.93581461e+09\n",
      "  2.26014131e+10  2.26014131e+10  6.94858874e+09  6.94858874e+09\n",
      " -9.71700971e+09 -9.71700971e+09  6.94858874e+09 -9.71700971e+09\n",
      " -9.71700971e+09  6.94858874e+09 -9.71700971e+09 -9.71700971e+09\n",
      "  6.94858874e+09  6.94858874e+09  2.26145033e+01  3.67952807e+01]\n"
     ]
    }
   ],
   "source": [
    "# Intercept\n",
    "intercept = model.intercept_\n",
    "print(\"Intercept:\", intercept)\n",
    "\n",
    "# Koefisien\n",
    "coefficients = model.coef_\n",
    "print(\"Coefficients:\", coefficients)"
   ]
  },
  {
   "cell_type": "markdown",
   "metadata": {},
   "source": [
    "- Intercept merupakan titik di mana garis regresi linear menyeberangi sumbu y ketika nilai x adalah nol. Dalam konteks regresi linear, intercept mewakili perkiraan nilai dari variabel dependen (y) ketika semua variabel independen (x) adalah nol. \n",
    "\n",
    "- Beberapa alasan yang bisa menjadi pembelaan untuk intercept yang negatif dalam konteks harga perjalanan ride-hailing yaitu:\n",
    "1. Intercept negatif dapat disebabkan oleh ketidaklengkapannya model regresi dalam mempertimbangkan semua faktor yang memengaruhi harga perjalanan. Jika model hanya mempertimbangkan beberapa faktor seperti jarak perjalanan dan surge multiplier, tanpa memasukkan faktor lain seperti waktu, cuaca, atau kondisi lalu lintas, maka intercept negatif bisa terjadi.\n",
    "2. Skala variabel independen yang digunakan dalam model regresi juga bisa memengaruhi nilai intercept. Misalnya, jika variabel independen yang digunakan dalam model memiliki skala yang besar (seperti jarak perjalanan yang diukur dalam kilometer), sementara variabel lain memiliki skala yang lebih kecil (seperti surge multiplier yang biasanya antara 1 hingga 3), ini bisa memengaruhi nilai intercept. Dalam hal ini, perbedaan skala variabel independen bisa memberikan kontribusi terhadap nilai intercept yang negatif.\n",
    "\n",
    "- Beberapa alasan yang bisa menjelaskan untuk slope yang negatif dalam konteks harga perjalanan ride-hailing yaitu:\n",
    "1. Koefisien negatif menunjukkan bahwa ada hubungan yang terbalik antara variabel independen dan variabel dependen. Misalnya, dalam konteks harga perjalanan ride-hailing, koefisien negatif untuk variabel jarak mungkin mengindikasikan bahwa semakin jauh jarak perjalanan, semakin rendah harga perjalanan karena adanya diskon untuk jarak yang lebih panjang.\n",
    "2. Koefisien negatif juga dapat menggambarkan variasi harga yang kompleks dan bergantung pada faktor-faktor lain yang tidak dimasukkan ke dalam model. Misalnya, dalam industri ride-hailing, harga perjalanan dapat dipengaruhi oleh berbagai faktor seperti waktu, permintaan, cuaca, dan promosi khusus."
   ]
  }
 ],
 "metadata": {
  "kernelspec": {
   "display_name": "base",
   "language": "python",
   "name": "python3"
  },
  "language_info": {
   "codemirror_mode": {
    "name": "ipython",
    "version": 3
   },
   "file_extension": ".py",
   "mimetype": "text/x-python",
   "name": "python",
   "nbconvert_exporter": "python",
   "pygments_lexer": "ipython3",
   "version": "3.11.5"
  }
 },
 "nbformat": 4,
 "nbformat_minor": 2
}
