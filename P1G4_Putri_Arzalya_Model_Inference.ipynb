{
 "cells": [
  {
   "cell_type": "markdown",
   "metadata": {},
   "source": [
    "\n",
    "    =================================================\n",
    "    Graded Challenge 4\n",
    "\n",
    "    Nama  : Putri Arzalya Maharani\n",
    "    Batch : HCK-013\n",
    "\n",
    "    Program ini dibuat untuk memprediksi harga perjalanan platform ride-hailing berdasarkan korelasi antar variabel untuk menentukan faktor apa yang mempengaruhi harga kemudian membangun model LinearRegression untuk memperoleh output harga perjalanan berdasarkan faktor-faktor tersebut.\n",
    "    ================================================="
   ]
  },
  {
   "cell_type": "markdown",
   "metadata": {},
   "source": [
    "# Import Library"
   ]
  },
  {
   "cell_type": "code",
   "execution_count": 1,
   "metadata": {},
   "outputs": [],
   "source": [
    "# Library untuk manipulasi data\n",
    "import pandas as pd\n",
    "import numpy as np\n",
    "\n",
    "# Model Saving\n",
    "import json\n",
    "import pickle"
   ]
  },
  {
   "cell_type": "markdown",
   "metadata": {},
   "source": [
    "- Kode ini bertujuan untuk mengakses file yang telah kita save sebelumnya di model saving"
   ]
  },
  {
   "cell_type": "code",
   "execution_count": 2,
   "metadata": {},
   "outputs": [],
   "source": [
    "# Load model and other files\n",
    "with open('model.pkl', 'rb') as file_1:\n",
    "  model = pickle.load(file_1)\n",
    "\n",
    "# Load list kolom numerikal\n",
    "with open('list_num_kols.txt', 'r') as file_2:\n",
    "    selected_numeric_cols = json.load(file_2)\n",
    "\n",
    "# Load list kolom kategorikal from the JSON file\n",
    "with open('list_cat_cols.txt', 'r') as file_3:\n",
    "    selected_categorical_cols = json.load(file_3)\n",
    "\n",
    "# Load encoder\n",
    "with open('encoder.pkl', 'rb') as file_4:\n",
    "  encoder = pickle.load(file_4)\n",
    "\n",
    "# Load scaler\n",
    "with open('scaler.pkl', 'rb') as file_5:\n",
    "  scaler = pickle.load(file_5)"
   ]
  },
  {
   "cell_type": "markdown",
   "metadata": {},
   "source": [
    "- Meng-input data untuk dilakukannya prediksi model."
   ]
  },
  {
   "cell_type": "code",
   "execution_count": 3,
   "metadata": {},
   "outputs": [
    {
     "data": {
      "text/html": [
       "<div>\n",
       "<style scoped>\n",
       "    .dataframe tbody tr th:only-of-type {\n",
       "        vertical-align: middle;\n",
       "    }\n",
       "\n",
       "    .dataframe tbody tr th {\n",
       "        vertical-align: top;\n",
       "    }\n",
       "\n",
       "    .dataframe thead th {\n",
       "        text-align: right;\n",
       "    }\n",
       "</style>\n",
       "<table border=\"1\" class=\"dataframe\">\n",
       "  <thead>\n",
       "    <tr style=\"text-align: right;\">\n",
       "      <th></th>\n",
       "      <th>id</th>\n",
       "      <th>timestamp</th>\n",
       "      <th>hour</th>\n",
       "      <th>day</th>\n",
       "      <th>month</th>\n",
       "      <th>datetime</th>\n",
       "      <th>timezone</th>\n",
       "      <th>source</th>\n",
       "      <th>destination</th>\n",
       "      <th>cab_type</th>\n",
       "      <th>...</th>\n",
       "      <th>precipIntensityMax</th>\n",
       "      <th>uvIndexTime</th>\n",
       "      <th>temperatureMin</th>\n",
       "      <th>temperatureMinTime</th>\n",
       "      <th>temperatureMax</th>\n",
       "      <th>temperatureMaxTime</th>\n",
       "      <th>apparentTemperatureMin</th>\n",
       "      <th>apparentTemperatureMinTime</th>\n",
       "      <th>apparentTemperatureMax</th>\n",
       "      <th>apparentTemperatureMaxTime</th>\n",
       "    </tr>\n",
       "  </thead>\n",
       "  <tbody>\n",
       "    <tr>\n",
       "      <th>0</th>\n",
       "      <td>424553bb-7174-41ea-aeb4-fe06d4f4b9d7</td>\n",
       "      <td>1.543284e+09</td>\n",
       "      <td>2</td>\n",
       "      <td>27</td>\n",
       "      <td>11</td>\n",
       "      <td>2018-11-27</td>\n",
       "      <td>America/New_York</td>\n",
       "      <td>Haymarket Square</td>\n",
       "      <td>North Station</td>\n",
       "      <td>Lyft</td>\n",
       "      <td>...</td>\n",
       "      <td>0.13</td>\n",
       "      <td>1543251600</td>\n",
       "      <td>40.49</td>\n",
       "      <td>1543233600</td>\n",
       "      <td>47.3</td>\n",
       "      <td>1543251600</td>\n",
       "      <td>36.2</td>\n",
       "      <td>1543291200</td>\n",
       "      <td>43.92</td>\n",
       "      <td>1543251600</td>\n",
       "    </tr>\n",
       "  </tbody>\n",
       "</table>\n",
       "<p>1 rows × 57 columns</p>\n",
       "</div>"
      ],
      "text/plain": [
       "                                     id     timestamp  hour  day  month  \\\n",
       "0  424553bb-7174-41ea-aeb4-fe06d4f4b9d7  1.543284e+09     2   27     11   \n",
       "\n",
       "     datetime          timezone            source    destination cab_type  \\\n",
       "0  2018-11-27  America/New_York  Haymarket Square  North Station     Lyft   \n",
       "\n",
       "   ... precipIntensityMax uvIndexTime  temperatureMin  temperatureMinTime  \\\n",
       "0  ...               0.13  1543251600           40.49          1543233600   \n",
       "\n",
       "   temperatureMax  temperatureMaxTime  apparentTemperatureMin  \\\n",
       "0            47.3          1543251600                    36.2   \n",
       "\n",
       "   apparentTemperatureMinTime  apparentTemperatureMax  \\\n",
       "0                  1543291200                   43.92   \n",
       "\n",
       "  apparentTemperatureMaxTime  \n",
       "0                 1543251600  \n",
       "\n",
       "[1 rows x 57 columns]"
      ]
     },
     "execution_count": 3,
     "metadata": {},
     "output_type": "execute_result"
    }
   ],
   "source": [
    "data = pd.DataFrame([{\n",
    "    'id': '424553bb-7174-41ea-aeb4-fe06d4f4b9d7',\n",
    "    'timestamp': 1543284023.677,\n",
    "    'hour': 2,\n",
    "    'day': 27,\n",
    "    'month':11,\n",
    "    'datetime':'2018-11-27',\n",
    "    'timezone':'America/New_York',\n",
    "    'source':'Haymarket Square',\n",
    "    'destination':'North Station',\n",
    "    'cab_type':'Lyft',\n",
    "    'product_id':'lyft_premier',\n",
    "    'name':'Lux',\n",
    "    'price':11,\n",
    "    'distance':0.44,\n",
    "    'surge_multiplier':1,\n",
    "    'latitude':42.2148,\n",
    "    'longitude':-71.033,\n",
    "    'temperature':43.58,\n",
    "    'apparentTemperature':37.35,\n",
    "    'short_summary':'Rain',\n",
    "    'long_summary':'Rain until morning, starting again in the evening.',\n",
    "    'precipIntensity':0.1299,\n",
    "    'precipProbability':1,\n",
    "    'humidity':0.94,\n",
    "    'windSpeed':11.98,\n",
    "    'windGust':11.98,\n",
    "    'windGustTime':1543291200,\n",
    "    'visibility':4.786,\n",
    "    'temperatureHigh':47.3,\n",
    "    'temperatureHighTime':1543251600,\n",
    "    'temperatureLow':42.1,\n",
    "    'temperatureLowTime':1543298400,\n",
    "    'apparentTemperatureHigh':43.92,\n",
    "    'apparentTemperatureHighTime':1543251600,\n",
    "    'apparentTemperatureLow':36.2,\n",
    "    'apparentTemperatureLowTime':1543291200,\n",
    "    'icon':'rain',\n",
    "    'dewPoint':41.83,\n",
    "    'pressure':1003.97,\n",
    "    'windBearing':90,\n",
    "    'cloudCover':1,\n",
    "    'uvIndex':0,\n",
    "    'visibility.1':4.786,\n",
    "    'ozone':291.1,\n",
    "    'sunriseTime':1543232969,\n",
    "    'sunsetTime':1543266992,\n",
    "    'moonPhase':0.64,\n",
    "    'precipIntensityMax':0.13,\n",
    "    'uvIndexTime':1543251600,\n",
    "    'temperatureMin':40.49,\n",
    "    'temperatureMinTime':1543233600,\n",
    "    'temperatureMax':47.3,\n",
    "    'temperatureMaxTime':1543251600,\n",
    "    'apparentTemperatureMin':36.2,\n",
    "    'apparentTemperatureMinTime':1543291200,\n",
    "    'apparentTemperatureMax':43.92,\n",
    "    'apparentTemperatureMaxTime':1543251600\n",
    "}])\n",
    "\n",
    "data"
   ]
  },
  {
   "cell_type": "markdown",
   "metadata": {},
   "source": [
    "# Feature Engineering"
   ]
  },
  {
   "cell_type": "code",
   "execution_count": 4,
   "metadata": {},
   "outputs": [
    {
     "name": "stderr",
     "output_type": "stream",
     "text": [
      "/Users/putriarzalya/anaconda3/lib/python3.11/site-packages/sklearn/base.py:493: UserWarning: X does not have valid feature names, but MinMaxScaler was fitted with feature names\n",
      "  warnings.warn(\n"
     ]
    }
   ],
   "source": [
    "# Split kategorikal dan numerikal\n",
    "data_num = data[selected_numeric_cols]\n",
    "data_cat = data[selected_categorical_cols]\n",
    "\n",
    "# Encode kategorikal\n",
    "data_cat_encode = encoder.transform(data_cat)\n",
    "\n",
    "# Concatenate\n",
    "data_final = np.concatenate([data_cat_encode.toarray(), data_num], axis=1)\n",
    "\n",
    "# Scale numerikal\n",
    "data_scaled = scaler.transform(data_final)"
   ]
  },
  {
   "cell_type": "code",
   "execution_count": 5,
   "metadata": {},
   "outputs": [
    {
     "name": "stdout",
     "output_type": "stream",
     "text": [
      "Harga tarif perjalanan platform ride hailing yaitu Rp12.532\n"
     ]
    }
   ],
   "source": [
    "# Prediksi model\n",
    "predictions = model.predict(data_scaled)\n",
    "\n",
    "# Hasil yang diperoleh\n",
    "print(f'Harga tarif perjalanan platform ride hailing yaitu Rp{predictions[0]:,.3f}')"
   ]
  },
  {
   "cell_type": "code",
   "execution_count": 6,
   "metadata": {},
   "outputs": [
    {
     "name": "stdout",
     "output_type": "stream",
     "text": [
      "Intercept: -10117564016.555521\n",
      "Coefficients: [-4.09399979e+08 -1.37100107e+09 -1.39583825e+09 -1.39583824e+09\n",
      " -2.35743934e+09 -2.35743934e+09 -2.35743933e+09 -2.35743935e+09\n",
      " -2.35743934e+09 -2.35743935e+09 -1.39583826e+09 -1.39583826e+09\n",
      " -1.39583825e+09 -1.39583826e+09  2.26014131e+10  2.26014131e+10\n",
      "  5.93581461e+09  5.93581461e+09  2.26014131e+10  5.93581461e+09\n",
      "  5.93581461e+09  2.26014131e+10  5.93581461e+09  5.93581461e+09\n",
      "  2.26014131e+10  2.26014131e+10  6.94858874e+09  6.94858874e+09\n",
      " -9.71700971e+09 -9.71700971e+09  6.94858874e+09 -9.71700971e+09\n",
      " -9.71700971e+09  6.94858874e+09 -9.71700971e+09 -9.71700971e+09\n",
      "  6.94858874e+09  6.94858874e+09  2.26145033e+01  3.67952807e+01]\n"
     ]
    }
   ],
   "source": [
    "# Intercept\n",
    "intercept = model.intercept_\n",
    "# Koefisien\n",
    "coefficients = model.coef_\n",
    "print(\"Intercept:\", intercept)\n",
    "print(\"Coefficients:\", coefficients)"
   ]
  },
  {
   "cell_type": "markdown",
   "metadata": {},
   "source": [
    "- Intercept merupakan titik di mana garis regresi linear menyeberangi sumbu y ketika nilai x adalah nol. Dalam konteks regresi linear, intercept mewakili perkiraan nilai dari variabel dependen (y) ketika semua variabel independen (x) adalah nol. \n",
    "\n",
    "- Beberapa alasan yang bisa menjelaskan untuk intercept yang negatif dalam konteks harga perjalanan ride-hailing yaitu:\n",
    "1. Intercept negatif dapat disebabkan oleh ketidaklengkapannya model regresi dalam mempertimbangkan semua faktor yang memengaruhi harga perjalanan. Jika model hanya mempertimbangkan beberapa faktor seperti jarak perjalanan dan surge multiplier, tanpa memasukkan faktor lain seperti waktu, cuaca, atau kondisi lalu lintas, maka intercept negatif bisa terjadi.\n",
    "2. Skala variabel independen yang digunakan dalam model regresi juga bisa memengaruhi nilai intercept. Misalnya, jika variabel independen yang digunakan dalam model memiliki skala yang besar (seperti jarak perjalanan yang diukur dalam kilometer), sementara variabel lain memiliki skala yang lebih kecil (seperti surge multiplier yang biasanya antara 1 hingga 3), ini bisa memengaruhi nilai intercept. Dalam hal ini, perbedaan skala variabel independen bisa memberikan kontribusi terhadap nilai intercept yang negatif.\n",
    "\n",
    "- Beberapa alasan yang bisa menjelaskan untuk slope yang negatif dalam konteks harga perjalanan ride-hailing yaitu:\n",
    "1. Koefisien negatif menunjukkan bahwa ada hubungan yang terbalik antara variabel independen dan variabel dependen. Misalnya, dalam konteks harga perjalanan ride-hailing, koefisien negatif untuk variabel jarak mungkin mengindikasikan bahwa semakin jauh jarak perjalanan, semakin rendah harga perjalanan karena adanya diskon untuk jarak yang lebih panjang.\n",
    "2. Koefisien negatif juga dapat menggambarkan variasi harga yang kompleks dan bergantung pada faktor-faktor lain yang tidak dimasukkan ke dalam model. Misalnya, dalam industri ride-hailing, harga perjalanan dapat dipengaruhi oleh berbagai faktor seperti waktu, permintaan, cuaca, dan promosi khusus."
   ]
  }
 ],
 "metadata": {
  "kernelspec": {
   "display_name": "base",
   "language": "python",
   "name": "python3"
  },
  "language_info": {
   "codemirror_mode": {
    "name": "ipython",
    "version": 3
   },
   "file_extension": ".py",
   "mimetype": "text/x-python",
   "name": "python",
   "nbconvert_exporter": "python",
   "pygments_lexer": "ipython3",
   "version": "3.11.5"
  }
 },
 "nbformat": 4,
 "nbformat_minor": 2
}
